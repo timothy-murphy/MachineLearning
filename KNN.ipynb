{
 "cells": [
  {
   "cell_type": "code",
   "execution_count": 334,
   "metadata": {},
   "outputs": [],
   "source": [
    "from math import sqrt\n",
    "import numpy as np\n",
    "import matplotlib.pyplot as plt\n",
    "import pandas as pd\n",
    "from sklearn.model_selection import train_test_split"
   ]
  },
  {
   "cell_type": "code",
   "execution_count": 335,
   "metadata": {},
   "outputs": [
    {
     "name": "stdout",
     "output_type": "stream",
     "text": [
      "3995\n",
      "380\n"
     ]
    }
   ],
   "source": [
    "df = pd.read_csv('cuisines.csv')\n",
    "df = df.drop('cuisine',1)\n",
    "df = df.drop('Unnamed: 0',1)\n",
    "df.head()\n",
    "df.describe()\n",
    "index = df.index\n",
    "print(len(index))\n",
    "print(df.shape[1])"
   ]
  },
  {
   "cell_type": "markdown",
   "metadata": {},
   "source": [
    "This is a summary of the code I did here. It will take in a row number and a specifed number of nearest neighbors(K number). My code then removes the labels on all the rows, and then performs the Eucledean distance algorithm, in order to get the distance between the points. \n",
    "Then my code returns the K amount of closest points. So for example if the user specifed a K number of 10, then my code would return the ten closest neighbors, which are essentially the ten rows with the lowest Eucledean distance. However, I had to remove the first item on the list, because it would simply return itself as one of the ten neighbors with a distance of 0.0. That is obvioulsy not good, so my code removes the first item in the returned list. \n",
    "Then my code matches the indexs of the returns and appends the name of the cuisine to a list, and it returns a most common one. \n",
    "\n",
    "As for how my model changes with K, I was fascianted to see, that the higher number K is, then the less accurate my model is. "
   ]
  },
  {
   "cell_type": "code",
   "execution_count": 333,
   "metadata": {},
   "outputs": [
    {
     "name": "stdout",
     "output_type": "stream",
     "text": [
      "Pick a row number1000\n",
      "Specify how many nearest neighbors you want to analyze10\n",
      "['chinese', 'korean', 'korean', 'korean', 'korean', 'korean', 'korean', 'korean', 'chinese']\n",
      "korean\n"
     ]
    }
   ],
   "source": [
    "row_num = int(input(\"Pick a row number\"))\n",
    "K = int(input(\"Specify how many nearest neighbors you want to analyze\"))\n",
    "dataframe = pd.read_csv('cuisines.csv')\n",
    "dataframe = dataframe['cuisine']\n",
    "most_common = []\n",
    "list_results = []\n",
    "i = 0\n",
    "j = 0\n",
    "for j in range(len(index)):\n",
    "    result = 0.0\n",
    "    for i in range(df.shape[1]-1):\n",
    "        result += (float(df.loc[row_num][i]) - float(df.loc[j][i]))**2\n",
    "        i +=1\n",
    "    list_results.append(tuple([j,sqrt(result)]))\n",
    "res = sorted(list_results, key = lambda x: x[1], reverse = False)[:K]\n",
    "res.pop(0)\n",
    "for i in res:\n",
    "    most_common.append(dataframe[i[0]])\n",
    "print(most_common)\n",
    "def most_frequent(List):\n",
    "    return max(set(List), key = List.count)\n",
    "print(most_frequent(most_common))"
   ]
  },
  {
   "cell_type": "code",
   "execution_count": null,
   "metadata": {},
   "outputs": [],
   "source": []
  }
 ],
 "metadata": {
  "kernelspec": {
   "display_name": "Python 3",
   "language": "python",
   "name": "python3"
  },
  "language_info": {
   "codemirror_mode": {
    "name": "ipython",
    "version": 3
   },
   "file_extension": ".py",
   "mimetype": "text/x-python",
   "name": "python",
   "nbconvert_exporter": "python",
   "pygments_lexer": "ipython3",
   "version": "3.9.0"
  }
 },
 "nbformat": 4,
 "nbformat_minor": 4
}
